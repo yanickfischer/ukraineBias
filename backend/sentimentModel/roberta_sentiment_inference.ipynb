{
 "cells": [
  {
   "cell_type": "markdown",
   "metadata": {},
   "source": [
    "# 🧠 RoBERTa Sentiment Inferenz auf MongoDB-Daten\n",
    "\n",
    "Dieses Notebook lädt Textdaten aus einer MongoDB-Collection, führt eine Sentimentanalyse mit einem vortrainierten RoBERTa-Modell durch und speichert die Ergebnisse zurück."
   ]
  },
  {
   "cell_type": "markdown",
   "metadata": {},
   "source": [
    "## 1. 🔧 Setup & Imports"
   ]
  },
  {
   "cell_type": "code",
   "execution_count": 1,
   "metadata": {},
   "outputs": [
    {
     "name": "stdout",
     "output_type": "stream",
     "text": [
      "Requirement already satisfied: transformers in /Users/yanickfischer/Documents/vsCode/MDM/project1/ukraineBias/.venv/lib/python3.13/site-packages (4.50.0)\n",
      "Requirement already satisfied: torch in /Users/yanickfischer/Documents/vsCode/MDM/project1/ukraineBias/.venv/lib/python3.13/site-packages (2.6.0)\n",
      "Requirement already satisfied: pymongo in /Users/yanickfischer/Documents/vsCode/MDM/project1/ukraineBias/.venv/lib/python3.13/site-packages (4.11.3)\n",
      "Requirement already satisfied: python-dotenv in /Users/yanickfischer/Documents/vsCode/MDM/project1/ukraineBias/.venv/lib/python3.13/site-packages (1.0.1)\n",
      "Requirement already satisfied: filelock in /Users/yanickfischer/Documents/vsCode/MDM/project1/ukraineBias/.venv/lib/python3.13/site-packages (from transformers) (3.18.0)\n",
      "Requirement already satisfied: huggingface-hub<1.0,>=0.26.0 in /Users/yanickfischer/Documents/vsCode/MDM/project1/ukraineBias/.venv/lib/python3.13/site-packages (from transformers) (0.29.3)\n",
      "Requirement already satisfied: numpy>=1.17 in /Users/yanickfischer/Documents/vsCode/MDM/project1/ukraineBias/.venv/lib/python3.13/site-packages (from transformers) (2.2.4)\n",
      "Requirement already satisfied: packaging>=20.0 in /Users/yanickfischer/Documents/vsCode/MDM/project1/ukraineBias/.venv/lib/python3.13/site-packages (from transformers) (24.2)\n",
      "Requirement already satisfied: pyyaml>=5.1 in /Users/yanickfischer/Documents/vsCode/MDM/project1/ukraineBias/.venv/lib/python3.13/site-packages (from transformers) (6.0.2)\n",
      "Requirement already satisfied: regex!=2019.12.17 in /Users/yanickfischer/Documents/vsCode/MDM/project1/ukraineBias/.venv/lib/python3.13/site-packages (from transformers) (2024.11.6)\n",
      "Requirement already satisfied: requests in /Users/yanickfischer/Documents/vsCode/MDM/project1/ukraineBias/.venv/lib/python3.13/site-packages (from transformers) (2.32.3)\n",
      "Requirement already satisfied: tokenizers<0.22,>=0.21 in /Users/yanickfischer/Documents/vsCode/MDM/project1/ukraineBias/.venv/lib/python3.13/site-packages (from transformers) (0.21.1)\n",
      "Requirement already satisfied: safetensors>=0.4.3 in /Users/yanickfischer/Documents/vsCode/MDM/project1/ukraineBias/.venv/lib/python3.13/site-packages (from transformers) (0.5.3)\n",
      "Requirement already satisfied: tqdm>=4.27 in /Users/yanickfischer/Documents/vsCode/MDM/project1/ukraineBias/.venv/lib/python3.13/site-packages (from transformers) (4.67.1)\n",
      "Requirement already satisfied: typing-extensions>=4.10.0 in /Users/yanickfischer/Documents/vsCode/MDM/project1/ukraineBias/.venv/lib/python3.13/site-packages (from torch) (4.12.2)\n",
      "Requirement already satisfied: networkx in /Users/yanickfischer/Documents/vsCode/MDM/project1/ukraineBias/.venv/lib/python3.13/site-packages (from torch) (3.4.2)\n",
      "Requirement already satisfied: jinja2 in /Users/yanickfischer/Documents/vsCode/MDM/project1/ukraineBias/.venv/lib/python3.13/site-packages (from torch) (3.1.6)\n",
      "Requirement already satisfied: fsspec in /Users/yanickfischer/Documents/vsCode/MDM/project1/ukraineBias/.venv/lib/python3.13/site-packages (from torch) (2025.3.0)\n",
      "Requirement already satisfied: setuptools in /Users/yanickfischer/Documents/vsCode/MDM/project1/ukraineBias/.venv/lib/python3.13/site-packages (from torch) (77.0.3)\n",
      "Requirement already satisfied: sympy==1.13.1 in /Users/yanickfischer/Documents/vsCode/MDM/project1/ukraineBias/.venv/lib/python3.13/site-packages (from torch) (1.13.1)\n",
      "Requirement already satisfied: mpmath<1.4,>=1.1.0 in /Users/yanickfischer/Documents/vsCode/MDM/project1/ukraineBias/.venv/lib/python3.13/site-packages (from sympy==1.13.1->torch) (1.3.0)\n",
      "Requirement already satisfied: dnspython<3.0.0,>=1.16.0 in /Users/yanickfischer/Documents/vsCode/MDM/project1/ukraineBias/.venv/lib/python3.13/site-packages (from pymongo) (2.7.0)\n",
      "Requirement already satisfied: MarkupSafe>=2.0 in /Users/yanickfischer/Documents/vsCode/MDM/project1/ukraineBias/.venv/lib/python3.13/site-packages (from jinja2->torch) (3.0.2)\n",
      "Requirement already satisfied: charset-normalizer<4,>=2 in /Users/yanickfischer/Documents/vsCode/MDM/project1/ukraineBias/.venv/lib/python3.13/site-packages (from requests->transformers) (3.4.1)\n",
      "Requirement already satisfied: idna<4,>=2.5 in /Users/yanickfischer/Documents/vsCode/MDM/project1/ukraineBias/.venv/lib/python3.13/site-packages (from requests->transformers) (3.10)\n",
      "Requirement already satisfied: urllib3<3,>=1.21.1 in /Users/yanickfischer/Documents/vsCode/MDM/project1/ukraineBias/.venv/lib/python3.13/site-packages (from requests->transformers) (2.3.0)\n",
      "Requirement already satisfied: certifi>=2017.4.17 in /Users/yanickfischer/Documents/vsCode/MDM/project1/ukraineBias/.venv/lib/python3.13/site-packages (from requests->transformers) (2025.1.31)\n"
     ]
    }
   ],
   "source": [
    "!pip install transformers torch pymongo python-dotenv"
   ]
  },
  {
   "cell_type": "code",
   "execution_count": 2,
   "metadata": {},
   "outputs": [
    {
     "name": "stderr",
     "output_type": "stream",
     "text": [
      "/Users/yanickfischer/Documents/vsCode/MDM/project1/ukraineBias/.venv/lib/python3.13/site-packages/tqdm/auto.py:21: TqdmWarning: IProgress not found. Please update jupyter and ipywidgets. See https://ipywidgets.readthedocs.io/en/stable/user_install.html\n",
      "  from .autonotebook import tqdm as notebook_tqdm\n"
     ]
    }
   ],
   "source": [
    "import os\n",
    "import torch\n",
    "import pandas as pd\n",
    "from pymongo import MongoClient\n",
    "from dotenv import load_dotenv\n",
    "from transformers import AutoTokenizer, AutoModelForSequenceClassification"
   ]
  },
  {
   "cell_type": "markdown",
   "metadata": {},
   "source": [
    "## 2. 🔌 Verbindung zur MongoDB & Laden der Daten"
   ]
  },
  {
   "cell_type": "code",
   "execution_count": null,
   "metadata": {},
   "outputs": [
    {
     "name": "stdout",
     "output_type": "stream",
     "text": [
      "                         _id  \\\n",
      "0   67e02b4955c5d9c79f5dc4f5   \n",
      "1   67e02b4955c5d9c79f5dc4f6   \n",
      "2   67e02b4955c5d9c79f5dc4f7   \n",
      "3   67e02b4955c5d9c79f5dc4f8   \n",
      "4   67e02b4955c5d9c79f5dc4f9   \n",
      "..                       ...   \n",
      "65  67e02b4955c5d9c79f5dc536   \n",
      "66  67e02b4955c5d9c79f5dc537   \n",
      "67  67e02b4955c5d9c79f5dc538   \n",
      "68  67e02b4955c5d9c79f5dc539   \n",
      "69  67e02b4955c5d9c79f5dc53a   \n",
      "\n",
      "                                            sentiment target  \n",
      "0   BREAKING: Trump responds to the bombshell New ...         \n",
      "1   🔴 L'Occident a armé l'Ukraine et craint mainte...         \n",
      "2   🚨BREAKING: Elon Musk says that American politi...         \n",
      "3   What a twist! China may take part in peacekeep...         \n",
      "4   Nothing to see here, just actors in Ukraine ge...         \n",
      "..                                                ...    ...  \n",
      "65  People need to stop calling this thing communa...         \n",
      "66  Very true. Rte was dead quiet while Hezbollah ...         \n",
      "67  🚨NOTICIA NACIONAL! 📢 ¡NO EXITE NINGUN CAMPO DE...         \n",
      "68  An eyewitness recounts the horrific moment whe...         \n",
      "69  #Jarkiv 27,1% y #Zaporiyia 24,6%.  Hasta inclu...         \n",
      "\n",
      "[70 rows x 3 columns]\n"
     ]
    }
   ],
   "source": [
    "load_dotenv()\n",
    "MONGO_URI = os.getenv(\"MONGO_URI\")\n",
    "\n",
    "client = MongoClient(MONGO_URI)\n",
    "db = client[\"ukraineBiasDB\"]\n",
    "collection = db[\"tweets_balanced\"]\n",
    "\n",
    "pipeline = [\n",
    "    {\n",
    "        '$project': {\n",
    "            '_id': 1,\n",
    "            'sentiment': '$text',\n",
    "            'target': {'$literal': ''}\n",
    "        }\n",
    "    }\n",
    "]\n",
    "\n",
    "cursor = collection.aggregate(pipeline)\n",
    "train = pd.DataFrame(list(cursor))\n",
    "print(train.head())"
   ]
  },
  {
   "cell_type": "markdown",
   "metadata": {},
   "source": [
    "## 3. 🤗 Modell laden & Inferenz vorbereiten"
   ]
  },
  {
   "cell_type": "code",
   "execution_count": 4,
   "metadata": {},
   "outputs": [],
   "source": [
    "model_name = \"cardiffnlp/twitter-roberta-base-sentiment\"\n",
    "tokenizer = AutoTokenizer.from_pretrained(model_name)\n",
    "model = AutoModelForSequenceClassification.from_pretrained(model_name)\n",
    "model.eval()\n",
    "\n",
    "labels = {0: \"negative\", 1: \"neutral\", 2: \"positive\"}"
   ]
  },
  {
   "cell_type": "markdown",
   "metadata": {},
   "source": [
    "## 4. 🔍 Sentiment-Inferenz auf die Texte"
   ]
  },
  {
   "cell_type": "code",
   "execution_count": 9,
   "metadata": {},
   "outputs": [
    {
     "data": {
      "text/html": [
       "<div>\n",
       "<style scoped>\n",
       "    .dataframe tbody tr th:only-of-type {\n",
       "        vertical-align: middle;\n",
       "    }\n",
       "\n",
       "    .dataframe tbody tr th {\n",
       "        vertical-align: top;\n",
       "    }\n",
       "\n",
       "    .dataframe thead th {\n",
       "        text-align: right;\n",
       "    }\n",
       "</style>\n",
       "<table border=\"1\" class=\"dataframe\">\n",
       "  <thead>\n",
       "    <tr style=\"text-align: right;\">\n",
       "      <th></th>\n",
       "      <th>sentiment</th>\n",
       "      <th>target</th>\n",
       "    </tr>\n",
       "  </thead>\n",
       "  <tbody>\n",
       "    <tr>\n",
       "      <th>0</th>\n",
       "      <td>BREAKING: Trump responds to the bombshell New ...</td>\n",
       "      <td>0</td>\n",
       "    </tr>\n",
       "    <tr>\n",
       "      <th>1</th>\n",
       "      <td>🔴 L'Occident a armé l'Ukraine et craint mainte...</td>\n",
       "      <td>1</td>\n",
       "    </tr>\n",
       "    <tr>\n",
       "      <th>2</th>\n",
       "      <td>🚨BREAKING: Elon Musk says that American politi...</td>\n",
       "      <td>0</td>\n",
       "    </tr>\n",
       "    <tr>\n",
       "      <th>3</th>\n",
       "      <td>What a twist! China may take part in peacekeep...</td>\n",
       "      <td>1</td>\n",
       "    </tr>\n",
       "    <tr>\n",
       "      <th>4</th>\n",
       "      <td>Nothing to see here, just actors in Ukraine ge...</td>\n",
       "      <td>0</td>\n",
       "    </tr>\n",
       "    <tr>\n",
       "      <th>...</th>\n",
       "      <td>...</td>\n",
       "      <td>...</td>\n",
       "    </tr>\n",
       "    <tr>\n",
       "      <th>65</th>\n",
       "      <td>People need to stop calling this thing communa...</td>\n",
       "      <td>0</td>\n",
       "    </tr>\n",
       "    <tr>\n",
       "      <th>66</th>\n",
       "      <td>Very true. Rte was dead quiet while Hezbollah ...</td>\n",
       "      <td>0</td>\n",
       "    </tr>\n",
       "    <tr>\n",
       "      <th>67</th>\n",
       "      <td>🚨NOTICIA NACIONAL! 📢 ¡NO EXITE NINGUN CAMPO DE...</td>\n",
       "      <td>1</td>\n",
       "    </tr>\n",
       "    <tr>\n",
       "      <th>68</th>\n",
       "      <td>An eyewitness recounts the horrific moment whe...</td>\n",
       "      <td>0</td>\n",
       "    </tr>\n",
       "    <tr>\n",
       "      <th>69</th>\n",
       "      <td>#Jarkiv 27,1% y #Zaporiyia 24,6%.  Hasta inclu...</td>\n",
       "      <td>1</td>\n",
       "    </tr>\n",
       "  </tbody>\n",
       "</table>\n",
       "<p>70 rows × 2 columns</p>\n",
       "</div>"
      ],
      "text/plain": [
       "                                            sentiment  target\n",
       "0   BREAKING: Trump responds to the bombshell New ...       0\n",
       "1   🔴 L'Occident a armé l'Ukraine et craint mainte...       1\n",
       "2   🚨BREAKING: Elon Musk says that American politi...       0\n",
       "3   What a twist! China may take part in peacekeep...       1\n",
       "4   Nothing to see here, just actors in Ukraine ge...       0\n",
       "..                                                ...     ...\n",
       "65  People need to stop calling this thing communa...       0\n",
       "66  Very true. Rte was dead quiet while Hezbollah ...       0\n",
       "67  🚨NOTICIA NACIONAL! 📢 ¡NO EXITE NINGUN CAMPO DE...       1\n",
       "68  An eyewitness recounts the horrific moment whe...       0\n",
       "69  #Jarkiv 27,1% y #Zaporiyia 24,6%.  Hasta inclu...       1\n",
       "\n",
       "[70 rows x 2 columns]"
      ]
     },
     "execution_count": 9,
     "metadata": {},
     "output_type": "execute_result"
    }
   ],
   "source": [
    "def predict_sentiment(text):\n",
    "    inputs = tokenizer(text, return_tensors=\"pt\", truncation=True, padding=True)\n",
    "    with torch.no_grad():\n",
    "        logits = model(**inputs).logits\n",
    "        prediction = torch.argmax(logits, dim=1).item()\n",
    "    return prediction\n",
    "\n",
    "train[\"target\"] = train[\"sentiment\"].apply(predict_sentiment)\n",
    "train[[\"sentiment\", \"target\"]]"
   ]
  },
  {
   "cell_type": "markdown",
   "metadata": {},
   "source": [
    "## 5. 💾 Ergebnisse zurück in MongoDB speichern (optional)"
   ]
  },
  {
   "cell_type": "code",
   "execution_count": null,
   "metadata": {},
   "outputs": [],
   "source": [
    "\"\"\"for i, row in train.iterrows():\n",
    "    collection.update_one(\n",
    "        {\"_id\": row[\"_id\"]},\n",
    "        {\"$set\": {\"target\": int(row[\"target\"])}}\n",
    "    )\n",
    "    \"\"\""
   ]
  }
 ],
 "metadata": {
  "kernelspec": {
   "display_name": ".venv",
   "language": "python",
   "name": "python3"
  },
  "language_info": {
   "codemirror_mode": {
    "name": "ipython",
    "version": 3
   },
   "file_extension": ".py",
   "mimetype": "text/x-python",
   "name": "python",
   "nbconvert_exporter": "python",
   "pygments_lexer": "ipython3",
   "version": "3.13.2"
  }
 },
 "nbformat": 4,
 "nbformat_minor": 5
}
