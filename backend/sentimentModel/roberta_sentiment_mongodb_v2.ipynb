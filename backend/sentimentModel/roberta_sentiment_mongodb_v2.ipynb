{
 "cells": [
  {
   "cell_type": "markdown",
   "metadata": {},
   "source": [
    "# 🧪 Sentiment Analysis mit RoBERTa + MongoDB (.env Unterstützung)\n",
    "Dieses Notebook liest Tweets aus einer MongoDB-Datenbank, analysiert sie mit einem RoBERTa-Modell und kann die Ergebnisse in der Datenbank speichern."
   ]
  },
  {
   "cell_type": "markdown",
   "metadata": {},
   "source": [
    "## 1. 📦 Setup & Imports"
   ]
  },
  {
   "cell_type": "code",
   "execution_count": 1,
   "metadata": {},
   "outputs": [
    {
     "name": "stderr",
     "output_type": "stream",
     "text": [
      "/Users/yanickfischer/Documents/vsCode/MDM/project1/ukraineBias/.venv/lib/python3.13/site-packages/tqdm/auto.py:21: TqdmWarning: IProgress not found. Please update jupyter and ipywidgets. See https://ipywidgets.readthedocs.io/en/stable/user_install.html\n",
      "  from .autonotebook import tqdm as notebook_tqdm\n"
     ]
    }
   ],
   "source": [
    "import os\n",
    "from pymongo import MongoClient\n",
    "from pymongo.errors import ConnectionFailure\n",
    "from dotenv import load_dotenv\n",
    "from transformers import AutoTokenizer, AutoModelForSequenceClassification\n",
    "import torch"
   ]
  },
  {
   "cell_type": "markdown",
   "metadata": {},
   "source": [
    "## 2. 🔐 Verbindung zur MongoDB mit `.env`"
   ]
  },
  {
   "cell_type": "code",
   "execution_count": 2,
   "metadata": {},
   "outputs": [
    {
     "name": "stdout",
     "output_type": "stream",
     "text": [
      "✅ Verbindung zu MongoDB erfolgreich\n"
     ]
    }
   ],
   "source": [
    "def connect_to_mongo():\n",
    "    load_dotenv()\n",
    "    uri = os.getenv(\"MONGO_URI\")\n",
    "    if not uri:\n",
    "        raise ValueError(\"MONGO_URI fehlt!\")\n",
    "    try:\n",
    "        client = MongoClient(uri, serverSelectionTimeoutMS=3000)\n",
    "        client.admin.command(\"ping\")\n",
    "        print(\"✅ Verbindung zu MongoDB erfolgreich\")\n",
    "        db = client[\"ukraineBiasDB\"]\n",
    "        collection = db[\"tweets_balanced\"]\n",
    "        return collection\n",
    "    except ConnectionFailure as e:\n",
    "        print(f\"❌ Fehler bei Verbindung: {e}\")\n",
    "        return None\n",
    "\n",
    "# Verbindung testen\n",
    "collection = connect_to_mongo()"
   ]
  },
  {
   "cell_type": "markdown",
   "metadata": {},
   "source": [
    "## 3. 🤗 RoBERTa Modell laden"
   ]
  },
  {
   "cell_type": "code",
   "execution_count": 3,
   "metadata": {},
   "outputs": [],
   "source": [
    "model_name = \"cardiffnlp/twitter-roberta-base-sentiment\"\n",
    "tokenizer = AutoTokenizer.from_pretrained(model_name)\n",
    "model = AutoModelForSequenceClassification.from_pretrained(model_name)\n",
    "labels = ['negative', 'neutral', 'positive']"
   ]
  },
  {
   "cell_type": "markdown",
   "metadata": {},
   "source": [
    "## 4. 🔍 Inferenzfunktion definieren"
   ]
  },
  {
   "cell_type": "code",
   "execution_count": 4,
   "metadata": {},
   "outputs": [],
   "source": [
    "def get_sentiment(text):\n",
    "    inputs = tokenizer(text, return_tensors=\"pt\", truncation=True, padding=True)\n",
    "    with torch.no_grad():\n",
    "        logits = model(**inputs).logits\n",
    "    predicted_class_id = torch.argmax(logits).item()\n",
    "    return labels[predicted_class_id]"
   ]
  },
  {
   "cell_type": "markdown",
   "metadata": {},
   "source": [
    "## 5. 🧪 Analyse von MongoDB-Tweets (Vorschau)"
   ]
  },
  {
   "cell_type": "code",
   "execution_count": 5,
   "metadata": {},
   "outputs": [
    {
     "ename": "NotImplementedError",
     "evalue": "Collection objects do not implement truth value testing or bool(). Please compare with None instead: collection is not None",
     "output_type": "error",
     "traceback": [
      "\u001b[31m---------------------------------------------------------------------------\u001b[39m",
      "\u001b[31mNotImplementedError\u001b[39m                       Traceback (most recent call last)",
      "\u001b[36mCell\u001b[39m\u001b[36m \u001b[39m\u001b[32mIn[5]\u001b[39m\u001b[32m, line 1\u001b[39m\n\u001b[32m----> \u001b[39m\u001b[32m1\u001b[39m \u001b[38;5;28;01mif\u001b[39;00m collection:\n\u001b[32m      2\u001b[39m     \u001b[38;5;28;01mfor\u001b[39;00m doc \u001b[38;5;129;01min\u001b[39;00m collection.find().limit(\u001b[32m5\u001b[39m):\n\u001b[32m      3\u001b[39m         text = doc.get(\u001b[33m\"\u001b[39m\u001b[33mtext\u001b[39m\u001b[33m\"\u001b[39m, \u001b[33m\"\u001b[39m\u001b[33m\"\u001b[39m)\n",
      "\u001b[36mFile \u001b[39m\u001b[32m~/Documents/vsCode/MDM/project1/ukraineBias/.venv/lib/python3.13/site-packages/pymongo/synchronous/collection.py:311\u001b[39m, in \u001b[36mCollection.__bool__\u001b[39m\u001b[34m(self)\u001b[39m\n\u001b[32m    310\u001b[39m \u001b[38;5;28;01mdef\u001b[39;00m\u001b[38;5;250m \u001b[39m\u001b[34m__bool__\u001b[39m(\u001b[38;5;28mself\u001b[39m) -> NoReturn:\n\u001b[32m--> \u001b[39m\u001b[32m311\u001b[39m     \u001b[38;5;28;01mraise\u001b[39;00m \u001b[38;5;167;01mNotImplementedError\u001b[39;00m(\n\u001b[32m    312\u001b[39m         \u001b[33mf\u001b[39m\u001b[33m\"\u001b[39m\u001b[38;5;132;01m{\u001b[39;00m\u001b[38;5;28mtype\u001b[39m(\u001b[38;5;28mself\u001b[39m).\u001b[34m__name__\u001b[39m\u001b[38;5;132;01m}\u001b[39;00m\u001b[33m objects do not implement truth \u001b[39m\u001b[33m\"\u001b[39m\n\u001b[32m    313\u001b[39m         \u001b[33m\"\u001b[39m\u001b[33mvalue testing or bool(). Please compare \u001b[39m\u001b[33m\"\u001b[39m\n\u001b[32m    314\u001b[39m         \u001b[33m\"\u001b[39m\u001b[33mwith None instead: collection is not None\u001b[39m\u001b[33m\"\u001b[39m\n\u001b[32m    315\u001b[39m     )\n",
      "\u001b[31mNotImplementedError\u001b[39m: Collection objects do not implement truth value testing or bool(). Please compare with None instead: collection is not None"
     ]
    }
   ],
   "source": [
    "if collection:\n",
    "    for doc in collection.find().limit(5):\n",
    "        text = doc.get(\"text\", \"\")\n",
    "        sentiment = get_sentiment(text)\n",
    "        print(f\"Text: {text}\\n→ Sentiment: {sentiment}\\n\")"
   ]
  },
  {
   "cell_type": "markdown",
   "metadata": {},
   "source": [
    "## 6. 💾 Optional: Sentiment zurück in MongoDB schreiben"
   ]
  },
  {
   "cell_type": "code",
   "execution_count": null,
   "metadata": {},
   "outputs": [],
   "source": [
    "# Achtung: Ändert deine Datenbank\n",
    "if collection:\n",
    "    for doc in collection.find():\n",
    "        text = doc.get(\"text\", \"\")\n",
    "        sentiment = get_sentiment(text)\n",
    "        collection.update_one({\"_id\": doc[\"_id\"]}, {\"$set\": {\"sentiment\": sentiment}})"
   ]
  }
 ],
 "metadata": {
  "kernelspec": {
   "display_name": ".venv",
   "language": "python",
   "name": "python3"
  },
  "language_info": {
   "codemirror_mode": {
    "name": "ipython",
    "version": 3
   },
   "file_extension": ".py",
   "mimetype": "text/x-python",
   "name": "python",
   "nbconvert_exporter": "python",
   "pygments_lexer": "ipython3",
   "version": "3.13.2"
  }
 },
 "nbformat": 4,
 "nbformat_minor": 5
}
